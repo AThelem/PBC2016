{
 "cells": [
  {
   "cell_type": "markdown",
   "metadata": {},
   "source": [
    "<CENTER>\n",
    "<H1>\n",
    "NASA Goddard Space Flight Center <BR>\n",
    "    Python User Group <BR>\n",
    "2016 Python Boot Camp <br>\n",
    "</H1>\n",
    "</CENTER>"
   ]
  },
  {
   "cell_type": "markdown",
   "metadata": {},
   "source": [
    "# An Introduction to Numerical Computing with Python (numpy)"
   ]
  },
  {
   "cell_type": "markdown",
   "metadata": {},
   "source": [
    "## Reference Documents"
   ]
  },
  {
   "cell_type": "markdown",
   "metadata": {},
   "source": [
    "<OL>\n",
    "<LI> <A HREF=\"https://docs.scipy.org/doc/numpy-dev/user/quickstart.html\">Numpy Tutorial</A>\n",
    "<LI> <A HREF=\"http://docs.scipy.org/doc/numpy/reference\">NumPy Reference</A>\n",
    "<LI> <A HREF=\"http://mathesaurus.sourceforge.net/matlab-numpy.html\">NumPy for MATLAB Users</A>\n",
    "<LI> <A HREF=\"http://mathesaurus.sourceforge.net/r-numpy.html\">NumPy for R (and S-Plus) Users</A>\n",
    "</OL>"
   ]
  },
  {
   "cell_type": "markdown",
   "metadata": {},
   "source": [
    "In case you prefer a video:"
   ]
  },
  {
   "cell_type": "code",
   "execution_count": 1,
   "metadata": {
    "collapsed": false
   },
   "outputs": [
    {
     "data": {
      "image/jpeg": "[encoded data removed]",
      "text/html": [
       "\n",
       "        <iframe\n",
       "            width=\"400\"\n",
       "            height=\"300\"\n",
       "            src=\"https://www.youtube.com/embed/3Fp1zn5ao2M\"\n",
       "            frameborder=\"0\"\n",
       "            allowfullscreen\n",
       "        ></iframe>\n",
       "        "
      ],
      "text/plain": [
       "<IPython.lib.display.YouTubeVideo at 0x103debd50>"
      ]
     },
     "execution_count": 1,
     "metadata": {},
     "output_type": "execute_result"
    }
   ],
   "source": [
    "from IPython.display import YouTubeVideo\n",
    "#YouTubeVideo(\"http://www.youtube.com/watch?v=3Fp1zn5ao2M\")\n",
    "YouTubeVideo(\"3Fp1zn5ao2M\")"
   ]
  },
  {
   "cell_type": "markdown",
   "metadata": {},
   "source": [
    "### Why the need for numpy?"
   ]
  },
  {
   "cell_type": "markdown",
   "metadata": {},
   "source": [
    "While the Python language is an excellent tool for general-purpose programming, with a highly readable syntax, rich and powerful data types (strings, lists, sets, dictionaries, arbitrary length integers, etc) and a very comprehensive standard library, it was not designed specifically for mathematical and scientific computing.  Neither the language nor its standard library have facilities for the efficient representation of multidimensional datasets, tools for linear algebra and general matrix manipulations (an essential building block of virtually all technical computing), nor any data visualization facilities.\n",
    "\n",
    "In particular, Python lists are very flexible containers that can be nested arbitrarily deep and which can hold any Python object in them, but they are poorly suited to represent efficiently common mathematical constructs like vectors and matrices.  In contrast, much of our modern heritage of scientific computing has been built on top of libraries written in the Fortran language, which has native support for vectors and matrices as well as a library of mathematical functions that can efficiently operate on entire arrays at once."
   ]
  },
  {
   "cell_type": "markdown",
   "metadata": {},
   "source": [
    "#### numpy Arrays"
   ]
  },
  {
   "cell_type": "markdown",
   "metadata": {},
   "source": [
    "First we want to import the appropriate modules into our name space (note this is done automatically with the \"--pylab\" flag."
   ]
  },
  {
   "cell_type": "code",
   "execution_count": 2,
   "metadata": {
    "collapsed": false
   },
   "outputs": [],
   "source": [
    "import numpy as np"
   ]
  },
  {
   "cell_type": "markdown",
   "metadata": {},
   "source": [
    "The primary building block of the numpy module is the class \"ndarray\". A ndarray object represents a multidimensional, homogeneous array of fixed-sized items. An associated date-type object describes the format of each element in the array. An ndarray object is (almost) never instantiated directly, but instead using a method that returns an instance of the class.  Here is a pictoral representation of an \"ndarray\":\n",
    "\n",
    "<img src=\"http://docs.scipy.org/doc/numpy-1.10.1/_images/threefundamental.png\">"
   ]
  },
  {
   "cell_type": "markdown",
   "metadata": {},
   "source": [
    "#### Arrays vs. Lists"
   ]
  },
  {
   "cell_type": "code",
   "execution_count": 10,
   "metadata": {
    "collapsed": false
   },
   "outputs": [],
   "source": [
    "lst = [10, 20, 30, 40]\n",
    "arr = np.array([10, 20, 30, 40])"
   ]
  },
  {
   "cell_type": "markdown",
   "metadata": {},
   "source": [
    "Elements of a one-dimensional array are accessed with the same syntax as a list:"
   ]
  },
  {
   "cell_type": "code",
   "execution_count": 11,
   "metadata": {
    "collapsed": false
   },
   "outputs": [
    {
     "data": {
      "text/plain": [
       "10"
      ]
     },
     "execution_count": 11,
     "metadata": {},
     "output_type": "execute_result"
    }
   ],
   "source": [
    "lst[0]"
   ]
  },
  {
   "cell_type": "code",
   "execution_count": 12,
   "metadata": {
    "collapsed": false
   },
   "outputs": [
    {
     "data": {
      "text/plain": [
       "10"
      ]
     },
     "execution_count": 12,
     "metadata": {},
     "output_type": "execute_result"
    }
   ],
   "source": [
    "arr[0]"
   ]
  },
  {
   "cell_type": "code",
   "execution_count": 13,
   "metadata": {
    "collapsed": false
   },
   "outputs": [
    {
     "data": {
      "text/plain": [
       "array([30, 40])"
      ]
     },
     "execution_count": 13,
     "metadata": {},
     "output_type": "execute_result"
    }
   ],
   "source": [
    "arr[2:]"
   ]
  },
  {
   "cell_type": "markdown",
   "metadata": {},
   "source": [
    "### Exercise 1: Access the final element in the arr array"
   ]
  },
  {
   "cell_type": "code",
   "execution_count": 14,
   "metadata": {
    "collapsed": false
   },
   "outputs": [
    {
     "data": {
      "text/plain": [
       "40"
      ]
     },
     "execution_count": 14,
     "metadata": {},
     "output_type": "execute_result"
    }
   ],
   "source": [
    "arr[-1]"
   ]
  },
  {
   "cell_type": "markdown",
   "metadata": {},
   "source": [
    "The first difference to note between lists and arrays is that arrays are *homogeneous*; i.e. all elements of an array must be of the same type.  In contrast, lists can contain elements of arbitrary type. For example, we can change the last element in our list above to be a string:"
   ]
  },
  {
   "cell_type": "code",
   "execution_count": 15,
   "metadata": {
    "collapsed": false
   },
   "outputs": [
    {
     "data": {
      "text/plain": [
       "[10, 20, 30, 'a string inside a list']"
      ]
     },
     "execution_count": 15,
     "metadata": {},
     "output_type": "execute_result"
    }
   ],
   "source": [
    "lst[-1] = 'a string inside a list'\n",
    "lst"
   ]
  },
  {
   "cell_type": "markdown",
   "metadata": {},
   "source": [
    "but the same can not be done with an array, as we get an error message:"
   ]
  },
  {
   "cell_type": "code",
   "execution_count": 16,
   "metadata": {
    "collapsed": false
   },
   "outputs": [
    {
     "ename": "ValueError",
     "evalue": "invalid literal for long() with base 10: 'a string inside an array'",
     "output_type": "error",
     "traceback": [
      "\u001b[0;31m---------------------------------------------------------------------------\u001b[0m",
      "\u001b[0;31mValueError\u001b[0m                                Traceback (most recent call last)",
      "\u001b[0;32m<ipython-input-16-29c0bfa5fa8a>\u001b[0m in \u001b[0;36m<module>\u001b[0;34m()\u001b[0m\n\u001b[0;32m----> 1\u001b[0;31m \u001b[0marr\u001b[0m\u001b[0;34m[\u001b[0m\u001b[0;34m-\u001b[0m\u001b[0;36m1\u001b[0m\u001b[0;34m]\u001b[0m \u001b[0;34m=\u001b[0m \u001b[0;34m'a string inside an array'\u001b[0m\u001b[0;34m\u001b[0m\u001b[0m\n\u001b[0m",
      "\u001b[0;31mValueError\u001b[0m: invalid literal for long() with base 10: 'a string inside an array'"
     ]
    }
   ],
   "source": [
    "arr[-1] = 'a string inside an array'"
   ]
  },
  {
   "cell_type": "markdown",
   "metadata": {},
   "source": [
    "### Array memory representation"
   ]
  },
  {
   "cell_type": "markdown",
   "metadata": {},
   "source": [
    "The information about the type of an array is contained in its *dtype* attribute:"
   ]
  },
  {
   "cell_type": "code",
   "execution_count": 17,
   "metadata": {
    "collapsed": false
   },
   "outputs": [
    {
     "name": "stdout",
     "output_type": "stream",
     "text": [
      "[[1 2]\n",
      " [3 4]]\n"
     ]
    }
   ],
   "source": [
    "x = np.array([[1, 2], [3, 4]], dtype=np.uint8)\n",
    "print(x)"
   ]
  },
  {
   "cell_type": "code",
   "execution_count": 18,
   "metadata": {
    "collapsed": false
   },
   "outputs": [
    {
     "data": {
      "text/plain": [
       "['\\x01', '\\x02', '\\x03', '\\x04']"
      ]
     },
     "execution_count": 18,
     "metadata": {},
     "output_type": "execute_result"
    }
   ],
   "source": [
    "[b for b in bytes(x.data)]"
   ]
  },
  {
   "cell_type": "code",
   "execution_count": 19,
   "metadata": {
    "collapsed": false
   },
   "outputs": [
    {
     "data": {
      "text/plain": [
       "dtype('int64')"
      ]
     },
     "execution_count": 19,
     "metadata": {},
     "output_type": "execute_result"
    }
   ],
   "source": [
    "arr = np.array([10, 20, 123123])\n",
    "arr.dtype"
   ]
  },
  {
   "cell_type": "markdown",
   "metadata": {},
   "source": [
    "Once an array has been created, its dtype is fixed and it can only store elements of the same type.  For this example where the dtype is integer, if we store a floating point number it will be automatically converted into an integer:"
   ]
  },
  {
   "cell_type": "code",
   "execution_count": 21,
   "metadata": {
    "collapsed": false
   },
   "outputs": [
    {
     "data": {
      "text/plain": [
       "array([10, 20,  1])"
      ]
     },
     "execution_count": 21,
     "metadata": {},
     "output_type": "execute_result"
    }
   ],
   "source": [
    "arr[-1] = 1.234\n",
    "arr"
   ]
  },
  {
   "cell_type": "markdown",
   "metadata": {},
   "source": [
    "Why is a homogeneous data type required for arrays? *Speed*"
   ]
  },
  {
   "cell_type": "code",
   "execution_count": 22,
   "metadata": {
    "collapsed": false
   },
   "outputs": [
    {
     "name": "stdout",
     "output_type": "stream",
     "text": [
      "100 loops, best of 3: 4.81 ms per loop\n",
      "The slowest run took 6.22 times longer than the fastest. This could mean that an intermediate result is being cached.\n",
      "10000 loops, best of 3: 48.9 µs per loop\n"
     ]
    }
   ],
   "source": [
    "x = range(50000)\n",
    "y = np.arange(50000)\n",
    "\n",
    "%timeit [e**2  for e in x]\n",
    "%timeit y**2"
   ]
  },
  {
   "cell_type": "markdown",
   "metadata": {},
   "source": [
    "### Array creation"
   ]
  },
  {
   "cell_type": "markdown",
   "metadata": {},
   "source": [
    "Above we created an array from an existing list; now let us now see other ways in which we can create arrays, which we'll illustrate next.  A common need is to have an array initialized with a constant value, and very often this value is 0 or 1 (suitable as starting value for additive and multiplicative loops respectively); `zeros` creates arrays of all zeros, with any desired dtype:"
   ]
  },
  {
   "cell_type": "code",
   "execution_count": 23,
   "metadata": {
    "collapsed": false
   },
   "outputs": [
    {
     "data": {
      "text/plain": [
       "array([[ 0.,  0.,  0.,  0.,  0.],\n",
       "       [ 0.,  0.,  0.,  0.,  0.],\n",
       "       [ 0.,  0.,  0.,  0.,  0.],\n",
       "       [ 0.,  0.,  0.,  0.,  0.],\n",
       "       [ 0.,  0.,  0.,  0.,  0.]])"
      ]
     },
     "execution_count": 23,
     "metadata": {},
     "output_type": "execute_result"
    }
   ],
   "source": [
    "np.zeros((5, 5), dtype=np.float64)"
   ]
  },
  {
   "cell_type": "code",
   "execution_count": 24,
   "metadata": {
    "collapsed": false
   },
   "outputs": [
    {
     "data": {
      "text/plain": [
       "array([[0, 0, 0],\n",
       "       [0, 0, 0]])"
      ]
     },
     "execution_count": 24,
     "metadata": {},
     "output_type": "execute_result"
    }
   ],
   "source": [
    "np.zeros((2, 3), dtype=np.int64)"
   ]
  },
  {
   "cell_type": "code",
   "execution_count": 25,
   "metadata": {
    "collapsed": false
   },
   "outputs": [
    {
     "data": {
      "text/plain": [
       "array([ 0.+0.j,  0.+0.j,  0.+0.j])"
      ]
     },
     "execution_count": 25,
     "metadata": {},
     "output_type": "execute_result"
    }
   ],
   "source": [
    "np.zeros(3, dtype=complex)"
   ]
  },
  {
   "cell_type": "markdown",
   "metadata": {},
   "source": [
    "and similarly for `ones`:"
   ]
  },
  {
   "cell_type": "code",
   "execution_count": 26,
   "metadata": {
    "collapsed": false
   },
   "outputs": [
    {
     "data": {
      "text/plain": [
       "array([ 1.,  1.,  1.,  1.,  1.])"
      ]
     },
     "execution_count": 26,
     "metadata": {},
     "output_type": "execute_result"
    }
   ],
   "source": [
    "np.ones(5)"
   ]
  },
  {
   "cell_type": "markdown",
   "metadata": {},
   "source": [
    "Then there are the `linspace` and `logspace` functions to create linearly and logarithmically-spaced grids, respectively, with a fixed number of points and including both ends of the specified interval:"
   ]
  },
  {
   "cell_type": "code",
   "execution_count": 28,
   "metadata": {
    "collapsed": false
   },
   "outputs": [
    {
     "data": {
      "text/plain": [
       "array([ 0.  ,  0.25,  0.5 ,  0.75,  1.  ])"
      ]
     },
     "execution_count": 28,
     "metadata": {},
     "output_type": "execute_result"
    }
   ],
   "source": [
    "np.linspace(0, 1, 5)   # start, stop, num"
   ]
  },
  {
   "cell_type": "markdown",
   "metadata": {},
   "source": [
    "### Exercise 2: Create a new array of 11 elements logarithmically spaced from 1 to 100:"
   ]
  },
  {
   "cell_type": "code",
   "execution_count": 29,
   "metadata": {
    "collapsed": false
   },
   "outputs": [
    {
     "data": {
      "text/plain": [
       "array([   1.        ,    1.58489319,    2.51188643,    3.98107171,\n",
       "          6.30957344,   10.        ,   15.84893192,   25.11886432,\n",
       "         39.81071706,   63.09573445,  100.        ])"
      ]
     },
     "execution_count": 29,
     "metadata": {},
     "output_type": "execute_result"
    }
   ],
   "source": [
    "x = np.logspace(0, 2, 11)\n",
    "x"
   ]
  },
  {
   "cell_type": "markdown",
   "metadata": {},
   "source": [
    "Finally, it is often useful to create arrays with random numbers that follow a specific distribution.  The `np.random` module provides several random number generators.  For example, here we produce an array of 5 random samples taken from a standard normal distribution (0 mean and variance 1):"
   ]
  },
  {
   "cell_type": "code",
   "execution_count": 30,
   "metadata": {
    "collapsed": true
   },
   "outputs": [],
   "source": [
    "rng = np.random.RandomState(0)  # <-- seed value, do not have to specify, but useful for reproducibility"
   ]
  },
  {
   "cell_type": "code",
   "execution_count": 32,
   "metadata": {
    "collapsed": false
   },
   "outputs": [
    {
     "data": {
      "text/plain": [
       "array([-0.97727788,  0.95008842, -0.15135721, -0.10321885,  0.4105985 ])"
      ]
     },
     "execution_count": 32,
     "metadata": {},
     "output_type": "execute_result"
    }
   ],
   "source": [
    "rng.normal(loc=0, scale=1, size=5)"
   ]
  },
  {
   "cell_type": "markdown",
   "metadata": {},
   "source": [
    "Or the same, but from a uniform distribution:"
   ]
  },
  {
   "cell_type": "code",
   "execution_count": 33,
   "metadata": {
    "collapsed": false
   },
   "outputs": [
    {
     "name": "stdout",
     "output_type": "stream",
     "text": [
      "[ 5.83450076  0.5778984   1.36089122  8.51193277 -8.57927884]\n"
     ]
    }
   ],
   "source": [
    "uni = rng.uniform(-10, 10, size=5)  # 5 random numbers, picked from a uniform distribution between -10 and 10\n",
    "print(uni)"
   ]
  },
  {
   "cell_type": "markdown",
   "metadata": {},
   "source": [
    "### Indexing with other arrays"
   ]
  },
  {
   "cell_type": "markdown",
   "metadata": {},
   "source": [
    "Above we saw how to index arrays with single numbers and slices, just like Python lists.  But arrays allow for a more sophisticated kind of indexing which is very powerful: you can index an array with another array, and in particular with an array of boolean values.  This is particluarly useful to extract information from an array that matches a certain condition.\n",
    "\n",
    "Consider for example that in the array `uni` we want to replace all values above 0 with the value 10.  We can do so by first finding the *mask* that indicates where this condition is true or false:"
   ]
  },
  {
   "cell_type": "code",
   "execution_count": 34,
   "metadata": {
    "collapsed": false
   },
   "outputs": [
    {
     "data": {
      "text/plain": [
       "array([ True,  True,  True,  True, False], dtype=bool)"
      ]
     },
     "execution_count": 34,
     "metadata": {},
     "output_type": "execute_result"
    }
   ],
   "source": [
    "mask = uni > 0\n",
    "mask"
   ]
  },
  {
   "cell_type": "markdown",
   "metadata": {},
   "source": [
    "Now that we have this mask, we can use it to either read those values or to reset them to 0:"
   ]
  },
  {
   "cell_type": "code",
   "execution_count": 35,
   "metadata": {
    "collapsed": false
   },
   "outputs": [
    {
     "name": "stdout",
     "output_type": "stream",
     "text": [
      "('Array:', array([ 5.83450076,  0.5778984 ,  1.36089122,  8.51193277, -8.57927884]))\n",
      "('Masked array:', array([ 5.83450076,  0.5778984 ,  1.36089122,  8.51193277]))\n"
     ]
    }
   ],
   "source": [
    "print('Array:', uni)\n",
    "print('Masked array:', uni[mask])"
   ]
  },
  {
   "cell_type": "code",
   "execution_count": 36,
   "metadata": {
    "collapsed": false
   },
   "outputs": [
    {
     "name": "stdout",
     "output_type": "stream",
     "text": [
      "[ 10.          10.          10.          10.          -8.57927884]\n"
     ]
    }
   ],
   "source": [
    "uni[mask] = 10\n",
    "print(uni)"
   ]
  },
  {
   "cell_type": "markdown",
   "metadata": {},
   "source": [
    "### Arrays with more than one dimension"
   ]
  },
  {
   "cell_type": "markdown",
   "metadata": {},
   "source": [
    "Most of the array creation methods can be used to construct >1D arrays:"
   ]
  },
  {
   "cell_type": "code",
   "execution_count": 37,
   "metadata": {
    "collapsed": false
   },
   "outputs": [
    {
     "data": {
      "text/plain": [
       "array([[ 0.,  0.,  0.,  0.],\n",
       "       [ 0.,  0.,  0.,  0.],\n",
       "       [ 0.,  0.,  0.,  0.]])"
      ]
     },
     "execution_count": 37,
     "metadata": {},
     "output_type": "execute_result"
    }
   ],
   "source": [
    "np.zeros((3, 4))"
   ]
  },
  {
   "cell_type": "markdown",
   "metadata": {},
   "source": [
    "We can also reshape arrays to fit the desired shape:"
   ]
  },
  {
   "cell_type": "code",
   "execution_count": 38,
   "metadata": {
    "collapsed": false
   },
   "outputs": [
    {
     "data": {
      "text/plain": [
       "array([ 0,  1,  2,  3,  4,  5,  6,  7,  8,  9, 10, 11])"
      ]
     },
     "execution_count": 38,
     "metadata": {},
     "output_type": "execute_result"
    }
   ],
   "source": [
    "np.arange(12)"
   ]
  },
  {
   "cell_type": "code",
   "execution_count": 39,
   "metadata": {
    "collapsed": false
   },
   "outputs": [
    {
     "data": {
      "text/plain": [
       "array([[ 0,  1,  2,  3],\n",
       "       [ 4,  5,  6,  7],\n",
       "       [ 8,  9, 10, 11]])"
      ]
     },
     "execution_count": 39,
     "metadata": {},
     "output_type": "execute_result"
    }
   ],
   "source": [
    "arr = np.arange(12).reshape((3, 4))\n",
    "arr"
   ]
  },
  {
   "cell_type": "markdown",
   "metadata": {},
   "source": [
    "With two-dimensional arrays we start seeing the power of numpy: while a nested list can be indexed using repeatedly the `[ ]` operator, multidimensional arrays support a more direct indexing syntax with a single `[ ]` and a set of indices separated by commas:\n",
    "\n",
    "<img src=\"http://memory.osu.edu/classes/python/_images/numpy_indexing.png\">"
   ]
  },
  {
   "cell_type": "markdown",
   "metadata": {},
   "source": [
    "### Exercise #3: Retrieve the last entry from all the even numbered rows in the above array \"arr\" (0 indexed)"
   ]
  },
  {
   "cell_type": "code",
   "execution_count": 41,
   "metadata": {
    "collapsed": false
   },
   "outputs": [
    {
     "data": {
      "text/plain": [
       "array([ 3, 11])"
      ]
     },
     "execution_count": 41,
     "metadata": {},
     "output_type": "execute_result"
    }
   ],
   "source": [
    "arr[::2,-1]"
   ]
  },
  {
   "cell_type": "markdown",
   "metadata": {},
   "source": [
    "Slices Refer the Array Data\n",
    "<UL>\n",
    "<LI> With a as list, a[:] makes a copy of the data\t\n",
    "<LI> With a as array, a[:] is a reference to the data\n",
    "</UL>"
   ]
  },
  {
   "cell_type": "code",
   "execution_count": 56,
   "metadata": {
    "collapsed": false
   },
   "outputs": [
    {
     "name": "stdout",
     "output_type": "stream",
     "text": [
      "[[  0.   1.   2.   3.   4.   5.]\n",
      " [  6.   7.   8.   9.  10.  11.]\n",
      " [ 12.  13.  14.  15.  16.  17.]\n",
      " [ 18.  19.  20.  21.  22.  23.]\n",
      " [ 24.  25.  26.  27.  28.  29.]]\n",
      "7.0\n",
      "2.0\n"
     ]
    }
   ],
   "source": [
    "a = np.linspace(0, 29, 30)\n",
    "a.shape = (5,6)\n",
    "print a\n",
    "b = a[1,:]      # extract 2nd column of a\n",
    "print a[1,1]\n",
    "b[1] = 2\n",
    "print a[1,1]"
   ]
  },
  {
   "cell_type": "code",
   "execution_count": 57,
   "metadata": {
    "collapsed": false
   },
   "outputs": [
    {
     "name": "stdout",
     "output_type": "stream",
     "text": [
      "2.0\n",
      "2.0\n"
     ]
    }
   ],
   "source": [
    "# Take a copy to avoid referencing via slices:\n",
    "b = a[1,:].copy()\n",
    "print a[1,1]\n",
    "b[1] = 7777     # b and a are two different arrays now\n",
    "print a[1,1]"
   ]
  },
  {
   "cell_type": "markdown",
   "metadata": {},
   "source": [
    "### Other numpy functions and array properties"
   ]
  },
  {
   "cell_type": "markdown",
   "metadata": {},
   "source": [
    "Now that we have seen how to create arrays with more than one dimension, let's take a look at some other properties."
   ]
  },
  {
   "cell_type": "code",
   "execution_count": 42,
   "metadata": {
    "collapsed": false
   },
   "outputs": [
    {
     "name": "stdout",
     "output_type": "stream",
     "text": [
      "('Data type                :', dtype('int64'))\n",
      "('Total number of elements :', 12)\n",
      "('Number of dimensions     :', 2)\n",
      "('Shape (dimensionality)   :', (3, 4))\n",
      "('Memory used (in bytes)   :', 96)\n"
     ]
    }
   ],
   "source": [
    "print('Data type                :', arr.dtype)\n",
    "print('Total number of elements :', arr.size)\n",
    "print('Number of dimensions     :', arr.ndim)\n",
    "print('Shape (dimensionality)   :', arr.shape)\n",
    "print('Memory used (in bytes)   :', arr.nbytes)"
   ]
  },
  {
   "cell_type": "markdown",
   "metadata": {},
   "source": [
    "There are also many useful functions in numpy that operate on arrays, e.g.:"
   ]
  },
  {
   "cell_type": "code",
   "execution_count": 43,
   "metadata": {
    "collapsed": false
   },
   "outputs": [
    {
     "name": "stdout",
     "output_type": "stream",
     "text": [
      "('Minimum and maximum             :', 0, 11)\n",
      "('Sum and product of all elements :', 66, 0)\n",
      "('Mean and standard deviation     :', 5.5, 3.4520525295346629)\n"
     ]
    }
   ],
   "source": [
    "print('Minimum and maximum             :', np.min(arr), np.max(arr))\n",
    "print('Sum and product of all elements :', np.sum(arr), np.prod(arr))\n",
    "print('Mean and standard deviation     :', np.mean(arr), np.std(arr))"
   ]
  },
  {
   "cell_type": "markdown",
   "metadata": {},
   "source": [
    "For these methods, the above operations area all computed on all the elements of the array.  But for a multidimensional array, it's possible to do the computation along a single dimension, by passing the `axis` parameter; for example:"
   ]
  },
  {
   "cell_type": "code",
   "execution_count": 44,
   "metadata": {
    "collapsed": false
   },
   "outputs": [
    {
     "name": "stdout",
     "output_type": "stream",
     "text": [
      "('For the following array:\\n', array([[ 0,  1,  2,  3],\n",
      "       [ 4,  5,  6,  7],\n",
      "       [ 8,  9, 10, 11]]))\n",
      "('The sum of elements along the rows is    :', array([ 6, 22, 38]))\n",
      "('The sum of elements along the columns is :', array([12, 15, 18, 21]))\n"
     ]
    }
   ],
   "source": [
    "print('For the following array:\\n', arr)\n",
    "print('The sum of elements along the rows is    :', np.sum(arr, axis=1))\n",
    "print('The sum of elements along the columns is :', np.sum(arr, axis=0))"
   ]
  },
  {
   "cell_type": "markdown",
   "metadata": {},
   "source": [
    "As you can see in this example, the value of the `axis` parameter is the dimension which will be *consumed* once the operation has been carried out.  This is why to sum along the rows we use `axis=0`."
   ]
  },
  {
   "cell_type": "markdown",
   "metadata": {},
   "source": [
    "Another widely used property of arrays is the `.T` attribute, which allows you to access the transpose of the array (NumPy does this without making a copy of the array, by manipulating its strides):"
   ]
  },
  {
   "cell_type": "code",
   "execution_count": 46,
   "metadata": {
    "collapsed": false
   },
   "outputs": [
    {
     "name": "stdout",
     "output_type": "stream",
     "text": [
      "('Array:\\n', array([[ 0,  1,  2,  3],\n",
      "       [ 4,  5,  6,  7],\n",
      "       [ 8,  9, 10, 11]]))\n",
      "('Transpose:\\n', array([[ 0,  4,  8],\n",
      "       [ 1,  5,  9],\n",
      "       [ 2,  6, 10],\n",
      "       [ 3,  7, 11]]))\n"
     ]
    }
   ],
   "source": [
    "print('Array:\\n', arr)\n",
    "print('Transpose:\\n', arr.T)"
   ]
  },
  {
   "cell_type": "markdown",
   "metadata": {},
   "source": [
    "We don't have time here to look at all the numpy functions that operate on arrays, but here's a complete list.  Simply try exploring some of these IPython to learn more, or read their description in their docstrings or the [Numpy documentation](http://docs.scipy.org/doc/numpy/reference/):\n",
    "\n",
    "```\n",
    "np.ALLOW_THREADS              np.compress                   np.irr                        np.pv\n",
    "np.BUFSIZE                    np.concatenate                np.is_busday                  np.r_\n",
    "np.CLIP                       np.conj                       np.isclose                    np.rad2deg\n",
    "np.ComplexWarning             np.conjugate                  np.iscomplex                  np.radians\n",
    "np.DataSource                 np.convolve                   np.iscomplexobj               np.random\n",
    "np.ERR_CALL                   np.copy                       np.isfinite                   np.rank\n",
    "np.ERR_DEFAULT                np.copysign                   np.isfortran                  np.rate\n",
    "np.ERR_IGNORE                 np.copyto                     np.isinf                      np.ravel\n",
    "np.ERR_LOG                    np.core                       np.isnan                      np.ravel_multi_index\n",
    "np.ERR_PRINT                  np.corrcoef                   np.isneginf                   np.real\n",
    "np.ERR_RAISE                  np.correlate                  np.isposinf                   np.real_if_close\n",
    "np.ERR_WARN                   np.cos                        np.isreal                     np.rec\n",
    "np.FLOATING_POINT_SUPPORT     np.cosh                       np.isrealobj                  np.recarray\n",
    "np.FPE_DIVIDEBYZERO           np.count_nonzero              np.isscalar                   np.recfromcsv\n",
    "np.FPE_INVALID                np.cov                        np.issctype                   np.recfromtxt\n",
    "np.FPE_OVERFLOW               np.cross                      np.issubclass_                np.reciprocal\n",
    "np.FPE_UNDERFLOW              np.csingle                    np.issubdtype                 np.record\n",
    "np.False_                     np.ctypeslib                  np.issubsctype                np.remainder\n",
    "np.Inf                        np.cumprod                    np.iterable                   np.repeat\n",
    "np.Infinity                   np.cumproduct                 np.ix_                        np.require\n",
    "np.MAXDIMS                    np.cumsum                     np.kaiser                     np.reshape\n",
    "np.MachAr                     np.datetime64                 np.kron                       np.resize\n",
    "np.ModuleDeprecationWarning   np.datetime_as_string         np.ldexp                      np.restoredot\n",
    "np.NAN                        np.datetime_data              np.left_shift                 np.result_type\n",
    "np.NINF                       np.deg2rad                    np.less                       np.right_shift\n",
    "np.NZERO                      np.degrees                    np.less_equal                 np.rint\n",
    "np.NaN                        np.delete                     np.lexsort                    np.roll\n",
    "np.PINF                       np.deprecate                  np.lib                        np.rollaxis\n",
    "np.PZERO                      np.deprecate_with_doc         np.linalg                     np.roots\n",
    "np.PackageLoader              np.diag                       np.linspace                   np.rot90\n",
    "np.RAISE                      np.diag_indices               np.little_endian              np.round\n",
    "np.RankWarning                np.diag_indices_from          np.load                       np.round_\n",
    "np.SHIFT_DIVIDEBYZERO         np.diagflat                   np.loads                      np.row_stack\n",
    "np.SHIFT_INVALID              np.diagonal                   np.loadtxt                    np.s_\n",
    "np.SHIFT_OVERFLOW             np.diff                       np.log                        np.safe_eval\n",
    "np.SHIFT_UNDERFLOW            np.digitize                   np.log10                      np.save\n",
    "np.ScalarType                 np.disp                       np.log1p                      np.savetxt\n",
    "np.Tester                     np.divide                     np.log2                       np.savez\n",
    "np.True_                      np.division                   np.logaddexp                  np.savez_compressed\n",
    "np.UFUNC_BUFSIZE_DEFAULT      np.dot                        np.logaddexp2                 np.sctype2char\n",
    "np.UFUNC_PYVALS_NAME          np.double                     np.logical_and                np.sctypeDict\n",
    "np.VisibleDeprecationWarning  np.dsplit                     np.logical_not                np.sctypeNA\n",
    "np.WRAP                       np.dstack                     np.logical_or                 np.sctypes\n",
    "np.abs                        np.dtype                      np.logical_xor                np.searchsorted\n",
    "np.absolute                   np.e                          np.logspace                   np.select\n",
    "np.absolute_import            np.ediff1d                    np.long                       np.set_numeric_ops\n",
    "np.add                        np.einsum                     np.longcomplex                np.set_printoptions\n",
    "np.add_docstring              np.emath                      np.longdouble                 np.set_string_function\n",
    "np.add_newdoc                 np.empty                      np.longfloat                  np.setbufsize\n",
    "np.add_newdoc_ufunc           np.empty_like                 np.longlong                   np.setdiff1d\n",
    "np.add_newdocs                np.equal                      np.lookfor                    np.seterr\n",
    "np.alen                       np.errstate                   np.ma                         np.seterrcall\n",
    "np.all                        np.euler_gamma                np.mafromtxt                  np.seterrobj\n",
    "np.allclose                   np.exp                        np.mask_indices               np.setxor1d\n",
    "np.alltrue                    np.exp2                       np.mat                        np.shape\n",
    "np.alterdot                   np.expand_dims                np.math                       np.short\n",
    "np.amax                       np.expm1                      np.matrix                     np.show_config\n",
    "np.amin                       np.extract                    np.matrixlib                  np.sign\n",
    "np.angle                      np.eye                        np.max                        np.signbit\n",
    "np.any                        np.fabs                       np.maximum                    np.signedinteger\n",
    "np.append                     np.fastCopyAndTranspose       np.maximum_sctype             np.sin\n",
    "np.apply_along_axis           np.fft                        np.may_share_memory           np.sinc\n",
    "np.apply_over_axes            np.fill_diagonal              np.mean                       np.single\n",
    "np.arange                     np.find_common_type           np.median                     np.singlecomplex\n",
    "np.arccos                     np.finfo                      np.memmap                     np.sinh\n",
    "np.arccosh                    np.fix                        np.meshgrid                   np.size\n",
    "np.arcsin                     np.flatiter                   np.mgrid                      np.sometrue\n",
    "np.arcsinh                    np.flatnonzero                np.min                        np.sort\n",
    "np.arctan                     np.flexible                   np.min_scalar_type            np.sort_complex\n",
    "np.arctan2                    np.fliplr                     np.minimum                    np.source\n",
    "np.arctanh                    np.flipud                     np.mintypecode                np.spacing\n",
    "np.argmax                     np.float                      np.mirr                       np.split\n",
    "np.argmin                     np.float128                   np.mod                        np.sqrt\n",
    "np.argpartition               np.float16                    np.modf                       np.square\n",
    "np.argsort                    np.float32                    np.msort                      np.squeeze\n",
    "np.argwhere                   np.float64                    np.multiply                   np.stack\n",
    "np.around                     np.float_                     np.nan                        np.std\n",
    "np.array                      np.floating                   np.nan_to_num                 np.str\n",
    "np.array2string               np.floor                      np.nanargmax                  np.str0\n",
    "np.array_equal                np.floor_divide               np.nanargmin                  np.str_\n",
    "np.array_equiv                np.fmax                       np.nanmax                     np.string_\n",
    "np.array_repr                 np.fmin                       np.nanmean                    np.subtract\n",
    "np.array_split                np.fmod                       np.nanmedian                  np.sum\n",
    "np.array_str                  np.format_parser              np.nanmin                     np.swapaxes\n",
    "np.asanyarray                 np.frexp                      np.nanpercentile              np.sys\n",
    "np.asarray                    np.frombuffer                 np.nanprod                    np.take\n",
    "np.asarray_chkfinite          np.fromfile                   np.nanstd                     np.tan\n",
    "np.ascontiguousarray          np.fromfunction               np.nansum                     np.tanh\n",
    "np.asfarray                   np.fromiter                   np.nanvar                     np.tensordot\n",
    "np.asfortranarray             np.frompyfunc                 np.nbytes                     np.test\n",
    "np.asmatrix                   np.fromregex                  np.ndarray                    np.testing\n",
    "np.asscalar                   np.fromstring                 np.ndenumerate                np.tile\n",
    "np.atleast_1d                 np.full                       np.ndfromtxt                  np.timedelta64\n",
    "np.atleast_2d                 np.full_like                  np.ndim                       np.trace\n",
    "np.atleast_3d                 np.fv                         np.ndindex                    np.transpose\n",
    "np.average                    np.generic                    np.nditer                     np.trapz\n",
    "np.bartlett                   np.genfromtxt                 np.negative                   np.tri\n",
    "np.base_repr                  np.get_array_wrap             np.nested_iters               np.tril\n",
    "np.bench                      np.get_include                np.newaxis                    np.tril_indices\n",
    "np.binary_repr                np.get_printoptions           np.nextafter                  np.tril_indices_from\n",
    "np.bincount                   np.getbufsize                 np.nonzero                    np.trim_zeros\n",
    "np.bitwise_and                np.geterr                     np.not_equal                  np.triu\n",
    "np.bitwise_not                np.geterrcall                 np.nper                       np.triu_indices\n",
    "np.bitwise_or                 np.geterrobj                  np.npv                        np.triu_indices_from\n",
    "np.bitwise_xor                np.gradient                   np.numarray                   np.true_divide\n",
    "np.blackman                   np.greater                    np.number                     np.trunc\n",
    "np.bmat                       np.greater_equal              np.obj2sctype                 np.typeDict\n",
    "np.bool                       np.half                       np.object                     np.typeNA\n",
    "np.bool8                      np.hamming                    np.object0                    np.typecodes\n",
    "np.bool_                      np.hanning                    np.object_                    np.typename\n",
    "np.broadcast                  np.histogram                  np.ogrid                      np.ubyte\n",
    "np.broadcast_arrays           np.histogram2d                np.oldnumeric                 np.ufunc\n",
    "np.broadcast_to               np.histogramdd                np.ones                       np.uint\n",
    "np.busday_count               np.hsplit                     np.ones_like                  np.uint0\n",
    "np.busday_offset              np.hstack                     np.outer                      np.uint16\n",
    "np.busdaycalendar             np.hypot                      np.packbits                   np.uint32\n",
    "np.byte                       np.i0                         np.pad                        np.uint64\n",
    "np.byte_bounds                np.identity                   np.partition                  np.uint8\n",
    "np.bytes0                     np.iinfo                      np.percentile                 np.uintc\n",
    "np.bytes_                     np.imag                       np.pi                         np.uintp\n",
    "np.c_                         np.in1d                       np.piecewise                  np.ulonglong\n",
    "np.can_cast                   np.index_exp                  np.pkgload                    np.unicode\n",
    "np.cast                       np.indices                    np.place                      np.unicode_\n",
    "np.cbrt                       np.inexact                    np.pmt                        np.union1d\n",
    "np.cdouble                    np.inf                        np.poly                       np.unique\n",
    "np.ceil                       np.info                       np.poly1d                     np.unpackbits\n",
    "np.cfloat                     np.infty                      np.polyadd                    np.unravel_index\n",
    "np.char                       np.inner                      np.polyder                    np.unsignedinteger\n",
    "np.character                  np.insert                     np.polydiv                    np.unwrap\n",
    "np.chararray                  np.int                        np.polyfit                    np.ushort\n",
    "np.choose                     np.int0                       np.polyint                    np.vander\n",
    "np.clip                       np.int16                      np.polymul                    np.var\n",
    "np.clongdouble                np.int32                      np.polynomial                 np.vdot\n",
    "np.clongfloat                 np.int64                      np.polysub                    np.vectorize\n",
    "np.column_stack               np.int8                       np.polyval                    np.version\n",
    "np.common_type                np.int_                       np.power                      np.void\n",
    "np.compare_chararrays         np.int_asbuffer               np.ppmt                       np.void0\n",
    "np.compat                     np.intc                       np.print_function             np.vsplit\n",
    "np.complex                    np.integer                    np.prod                       np.vstack\n",
    "np.complex128                 np.interp                     np.product                    np.warnings\n",
    "np.complex256                 np.intersect1d                np.promote_types              np.where\n",
    "np.complex64                  np.intp                       np.ptp                        np.who\n",
    "np.complex_                   np.invert                     np.put                        np.zeros\n",
    "np.complexfloating            np.ipmt                       np.putmask                    np.zeros_like\n",
    "```"
   ]
  },
  {
   "cell_type": "markdown",
   "metadata": {},
   "source": [
    "Exercise #4: Find more information about the \"correlate\" method"
   ]
  },
  {
   "cell_type": "code",
   "execution_count": 48,
   "metadata": {
    "collapsed": true
   },
   "outputs": [],
   "source": [
    "np.correlate??"
   ]
  },
  {
   "cell_type": "markdown",
   "metadata": {},
   "source": [
    "## Operating with arrays"
   ]
  },
  {
   "cell_type": "markdown",
   "metadata": {},
   "source": [
    "Standard mathematical operations Just Work (TM):"
   ]
  },
  {
   "cell_type": "code",
   "execution_count": 49,
   "metadata": {
    "collapsed": false
   },
   "outputs": [
    {
     "name": "stdout",
     "output_type": "stream",
     "text": [
      "(array([0, 1, 2, 3]), '+', array([10, 11, 12, 13]), '=', array([10, 12, 14, 16]))\n"
     ]
    }
   ],
   "source": [
    "arr1 = np.arange(4)\n",
    "arr2 = np.arange(10, 14)\n",
    "print(arr1, '+', arr2, '=', arr1 + arr2)"
   ]
  },
  {
   "cell_type": "markdown",
   "metadata": {},
   "source": [
    "Note, that, unlike in MATLAB, operations are performed element-wise:"
   ]
  },
  {
   "cell_type": "code",
   "execution_count": 50,
   "metadata": {
    "collapsed": false
   },
   "outputs": [
    {
     "name": "stdout",
     "output_type": "stream",
     "text": [
      "(array([0, 1, 2, 3]), '*', array([10, 11, 12, 13]), '=', array([ 0, 11, 24, 39]))\n"
     ]
    }
   ],
   "source": [
    "print(arr1, '*', arr2, '=', arr1 * arr2)"
   ]
  },
  {
   "cell_type": "markdown",
   "metadata": {},
   "source": [
    "While this means that, in principle, arrays must always match in their dimensionality in order for an operation to be valid, numpy will *broadcast* dimensions when possible.  For example, suppose that you want to add the number 3 to `arr1`, this works:"
   ]
  },
  {
   "cell_type": "code",
   "execution_count": 51,
   "metadata": {
    "collapsed": false
   },
   "outputs": [
    {
     "data": {
      "text/plain": [
       "array([3, 4, 5, 6])"
      ]
     },
     "execution_count": 51,
     "metadata": {},
     "output_type": "execute_result"
    }
   ],
   "source": [
    "arr1 + 3"
   ]
  },
  {
   "cell_type": "markdown",
   "metadata": {},
   "source": [
    "### The broadcasting rules\n",
    "\n",
    "This broadcasting behavior is powerful, especially because when numpy broadcasts to create new dimensions or to 'stretch' existing ones, it doesn't replicate the data.  In the example above the operation is carried *as if* the 3 was a 1-d array with 3 in all of its entries, but no actual array was ever created.  This can save memory in cases when the arrays in question are large, with significant performance implications.\n",
    "\n",
    "The general rule is: when operating on two arrays, NumPy compares their shapes element-wise. It starts with the trailing dimensions, and works its way forward, creating dimensions of length 1 as needed. Two dimensions are considered compatible when\n",
    "\n",
    "* they are equal or either is None or one\n",
    "* either dimension is 1 or ``None``, or if dimensions are equal\n",
    "\n",
    "If these conditions are not met, a `ValueError: frames are not aligned` exception is thrown, indicating that the arrays have incompatible shapes. The size of the resulting array is the maximum size along each dimension of the input arrays.\n",
    "\n",
    "Examples below:\n",
    "\n",
    "```\n",
    "(9, 5)   (9, 5)   (9, 5)   (9, 1)\n",
    "   ( )   (9, 1)   (   5)   (   5)\n",
    "------   ------   ------   ------\n",
    "(9, 5)   (9, 5)   (9, 5)   (9, 5)\n",
    "\n",
    "```\n",
    "\n",
    "<img src=\"Broadcasting.png\"/>\n",
    "\n",
    "Sketch from [Nicolas Rougier's NumPy tutorial](http://www.labri.fr/perso/nrougier/teaching/numpy/numpy.html)"
   ]
  },
  {
   "cell_type": "markdown",
   "metadata": {},
   "source": [
    "### Exercise #4: Use broadcasting to generate a 6x6 identity array from two one-dimensional arrays."
   ]
  },
  {
   "cell_type": "code",
   "execution_count": 52,
   "metadata": {
    "collapsed": false
   },
   "outputs": [
    {
     "data": {
      "text/plain": [
       "array([[ 1.,  1.,  1.,  1.,  1.,  1.],\n",
       "       [ 1.,  1.,  1.,  1.,  1.,  1.],\n",
       "       [ 1.,  1.,  1.,  1.,  1.,  1.],\n",
       "       [ 1.,  1.,  1.,  1.,  1.,  1.],\n",
       "       [ 1.,  1.,  1.,  1.,  1.,  1.],\n",
       "       [ 1.,  1.,  1.,  1.,  1.,  1.]])"
      ]
     },
     "execution_count": 52,
     "metadata": {},
     "output_type": "execute_result"
    }
   ],
   "source": [
    "np.ones((6,1)) * np.ones((1,6))"
   ]
  },
  {
   "cell_type": "markdown",
   "metadata": {},
   "source": [
    "Sometimes, it is necessary to modify arrays before they can be used together.  Numpy allows you to add new axes to an array by indexing with `np.newaxis`:"
   ]
  },
  {
   "cell_type": "code",
   "execution_count": 53,
   "metadata": {
    "collapsed": false
   },
   "outputs": [
    {
     "name": "stdout",
     "output_type": "stream",
     "text": [
      "(5,)\n",
      "(6,)\n"
     ]
    },
    {
     "ename": "ValueError",
     "evalue": "operands could not be broadcast together with shapes (5,) (6,) ",
     "output_type": "error",
     "traceback": [
      "\u001b[0;31m---------------------------------------------------------------------------\u001b[0m",
      "\u001b[0;31mValueError\u001b[0m                                Traceback (most recent call last)",
      "\u001b[0;32m<ipython-input-53-0d0c3090ea2e>\u001b[0m in \u001b[0;36m<module>\u001b[0;34m()\u001b[0m\n\u001b[1;32m      5\u001b[0m \u001b[0;32mprint\u001b[0m\u001b[0;34m(\u001b[0m\u001b[0md\u001b[0m\u001b[0;34m.\u001b[0m\u001b[0mshape\u001b[0m\u001b[0;34m)\u001b[0m\u001b[0;34m\u001b[0m\u001b[0m\n\u001b[1;32m      6\u001b[0m \u001b[0;34m\u001b[0m\u001b[0m\n\u001b[0;32m----> 7\u001b[0;31m \u001b[0mc\u001b[0m \u001b[0;34m+\u001b[0m \u001b[0md\u001b[0m\u001b[0;34m\u001b[0m\u001b[0m\n\u001b[0m",
      "\u001b[0;31mValueError\u001b[0m: operands could not be broadcast together with shapes (5,) (6,) "
     ]
    }
   ],
   "source": [
    "c = np.arange(5)\n",
    "d = np.arange(6)\n",
    "\n",
    "print(c.shape)\n",
    "print(d.shape)\n",
    "\n",
    "c + d"
   ]
  },
  {
   "cell_type": "code",
   "execution_count": 54,
   "metadata": {
    "collapsed": false
   },
   "outputs": [
    {
     "name": "stdout",
     "output_type": "stream",
     "text": [
      "(5, 1)\n",
      "('  ', (6,))\n",
      "-------\n",
      "(5, 6)\n"
     ]
    },
    {
     "data": {
      "text/plain": [
       "array([[0, 1, 2, 3, 4, 5],\n",
       "       [1, 2, 3, 4, 5, 6],\n",
       "       [2, 3, 4, 5, 6, 7],\n",
       "       [3, 4, 5, 6, 7, 8],\n",
       "       [4, 5, 6, 7, 8, 9]])"
      ]
     },
     "execution_count": 54,
     "metadata": {},
     "output_type": "execute_result"
    }
   ],
   "source": [
    "c = np.arange(5)\n",
    "d = np.arange(6)\n",
    "\n",
    "c = c[:, np.newaxis]\n",
    "\n",
    "print(c.shape)\n",
    "print('  ', d.shape)\n",
    "print('-------')\n",
    "print((c + d).shape)\n",
    " \n",
    "#   d d d d d d\n",
    "#\n",
    "# c              c c c c c c   d d d d d d\n",
    "# c              c c c c c c   d d d d d d\n",
    "# c     +      = c c c c c c + d d d d d d\n",
    "# c              c c c c c c   d d d d d d\n",
    "# c              c c c c c c   d d d d d d\n",
    "\n",
    "c + d"
   ]
  },
  {
   "cell_type": "markdown",
   "metadata": {},
   "source": [
    "#### Array Computations"
   ]
  },
  {
   "cell_type": "code",
   "execution_count": 58,
   "metadata": {
    "collapsed": true
   },
   "outputs": [],
   "source": [
    "b = 3*a - 1    # a is array, b becomes array"
   ]
  },
  {
   "cell_type": "markdown",
   "metadata": {},
   "source": [
    "The above operation generates a temporary array:\n",
    "<OL>\n",
    "<LI> tb = 3*a\n",
    "<LI> b = tb - 1\n",
    "</OL>\n",
    "As far as possible, we want to avoid the creation\n",
    "  of temporary arrays to limit the memory usage and\n",
    "  to decrease the computational time associated with\n",
    "  with array computations."
   ]
  },
  {
   "cell_type": "markdown",
   "metadata": {},
   "source": [
    "#### In-Place Array Arithmetics"
   ]
  },
  {
   "cell_type": "code",
   "execution_count": 59,
   "metadata": {
    "collapsed": true
   },
   "outputs": [],
   "source": [
    "b = a\n",
    "b *= 3  # or multiply(b, 3, b)\n",
    "b -= 1  # or subtract(b, 1, b)"
   ]
  },
  {
   "cell_type": "markdown",
   "metadata": {},
   "source": [
    "In-place operations:\n",
    "    \n",
    "   a *= 3.0     # multiply a's elements by 3\n",
    "   a -= 1.0     # subtract 1 from each element\n",
    "   a /= 3.0     # divide each element by 3\n",
    "   a += 1.0     # add 1 to each element\n",
    "   a **= 2.0    # square all elements"
   ]
  },
  {
   "cell_type": "markdown",
   "metadata": {},
   "source": [
    "#### Math Functions and Array Arguments"
   ]
  },
  {
   "cell_type": "code",
   "execution_count": null,
   "metadata": {
    "collapsed": true
   },
   "outputs": [],
   "source": [
    "   # let b be an array\n",
    "   \n",
    "   c = sin(b)    \n",
    "   c = arcsin(c) \n",
    "   c = sinh(b)\n",
    "   # same functions for the cos and tan families\n",
    "   c = b**2.5  # power function\n",
    "   c = log(b)\n",
    "   c = exp(b)\n",
    "   c = sqrt(b)\n",
    "    \n",
    "   # a is an array\n",
    "   a.clip(min=3, max=12)  \t# clip elements\n",
    "   a.mean(); mean(a)     \t# mean value\n",
    "   a.var();  var(a)       \t# variance\n",
    "   a.std();  std(a)        \t# standard deviation\n",
    "   median(a)\n",
    "   cov(x,y)              \t# covariance\n",
    "   trapz(a)              \t# Trapezoidal integration\n",
    "   diff(a)               \t# finite differences (da/dx)\n"
   ]
  },
  {
   "cell_type": "markdown",
   "metadata": {},
   "source": [
    "### Exercise #5: "
   ]
  },
  {
   "cell_type": "code",
   "execution_count": null,
   "metadata": {
    "collapsed": true
   },
   "outputs": [],
   "source": []
  },
  {
   "cell_type": "markdown",
   "metadata": {},
   "source": [
    "#### Universal Functions and Loops"
   ]
  },
  {
   "cell_type": "markdown",
   "metadata": {},
   "source": [
    "Universal functions run much faster than for loops, which should be avoided whenever possible"
   ]
  },
  {
   "cell_type": "code",
   "execution_count": 60,
   "metadata": {
    "collapsed": false
   },
   "outputs": [],
   "source": [
    "def mult1(a,b):\n",
    "    return a * b\n",
    "\n",
    "def mult2(a,b):\n",
    "    c = np.empty(a.shape)\n",
    "    for i in range(a.shape[0]):\n",
    "        for j in range(a.shape[1]):\n",
    "            c[i,j] = a[i,j] * b[i,j]\n",
    "    return c"
   ]
  },
  {
   "cell_type": "code",
   "execution_count": 61,
   "metadata": {
    "collapsed": false
   },
   "outputs": [],
   "source": [
    "a = np.random.random((800,800))\n",
    "b = np.random.random((800,800))"
   ]
  },
  {
   "cell_type": "code",
   "execution_count": 62,
   "metadata": {
    "collapsed": false
   },
   "outputs": [
    {
     "name": "stdout",
     "output_type": "stream",
     "text": [
      "1000 loops, best of 3: 1.34 ms per loop\n"
     ]
    }
   ],
   "source": [
    "%timeit mult1(a,b)"
   ]
  },
  {
   "cell_type": "code",
   "execution_count": 63,
   "metadata": {
    "collapsed": false
   },
   "outputs": [
    {
     "name": "stdout",
     "output_type": "stream",
     "text": [
      "1 loop, best of 3: 347 ms per loop\n"
     ]
    }
   ],
   "source": [
    "%timeit mult2(a,b)"
   ]
  },
  {
   "cell_type": "markdown",
   "metadata": {
    "collapsed": false
   },
   "source": [
    "### Exercise #6: Compare the time it takes ..."
   ]
  },
  {
   "cell_type": "markdown",
   "metadata": {},
   "source": [
    "## Linear algebra in numpy"
   ]
  },
  {
   "cell_type": "markdown",
   "metadata": {},
   "source": [
    "Numpy ships with a basic linear algebra library, and all arrays have a `dot` method whose behavior is that of the scalar dot product when its arguments are vectors (one-dimensional arrays) and the traditional matrix multiplication when one or both of its arguments are two-dimensional arrays:"
   ]
  },
  {
   "cell_type": "code",
   "execution_count": 65,
   "metadata": {
    "collapsed": false
   },
   "outputs": [
    {
     "name": "stdout",
     "output_type": "stream",
     "text": [
      "(array([2, 3, 4]), '\\xc2\\xb7', array([1, 0, 1]), '=', 6)\n"
     ]
    }
   ],
   "source": [
    "v1 = np.array([2, 3, 4])\n",
    "v2 = np.array([1, 0, 1])\n",
    "print(v1, '·', v2, '=', v1.dot(v2))"
   ]
  },
  {
   "cell_type": "code",
   "execution_count": 66,
   "metadata": {
    "collapsed": false
   },
   "outputs": [
    {
     "name": "stdout",
     "output_type": "stream",
     "text": [
      "('A:\\n', array([[0, 1, 2],\n",
      "       [3, 4, 5]]))\n",
      "('v1:\\n', array([2, 3, 4]))\n"
     ]
    }
   ],
   "source": [
    "A = np.arange(6).reshape(2, 3)\n",
    "print('A:\\n', A)\n",
    "print('v1:\\n', v1)"
   ]
  },
  {
   "cell_type": "code",
   "execution_count": 67,
   "metadata": {
    "collapsed": false
   },
   "outputs": [
    {
     "data": {
      "text/plain": [
       "array([11, 38])"
      ]
     },
     "execution_count": 67,
     "metadata": {},
     "output_type": "execute_result"
    }
   ],
   "source": [
    "A.dot(v1)"
   ]
  },
  {
   "cell_type": "markdown",
   "metadata": {},
   "source": [
    "For matrix-matrix multiplication, the same dimension-matching rules must be satisfied, e.g. consider the difference between $A \\times A^T$:"
   ]
  },
  {
   "cell_type": "code",
   "execution_count": 68,
   "metadata": {
    "collapsed": false
   },
   "outputs": [
    {
     "name": "stdout",
     "output_type": "stream",
     "text": [
      "[[ 5 14]\n",
      " [14 50]]\n"
     ]
    }
   ],
   "source": [
    "print(A.dot(A.T))"
   ]
  },
  {
   "cell_type": "markdown",
   "metadata": {},
   "source": [
    "and $A^T \\times A$:"
   ]
  },
  {
   "cell_type": "code",
   "execution_count": 70,
   "metadata": {
    "collapsed": false
   },
   "outputs": [
    {
     "name": "stdout",
     "output_type": "stream",
     "text": [
      "[[ 9 12 15]\n",
      " [12 17 22]\n",
      " [15 22 29]]\n"
     ]
    }
   ],
   "source": [
    "print(A.T.dot(A))"
   ]
  },
  {
   "cell_type": "markdown",
   "metadata": {},
   "source": [
    "Furthermore, the `numpy.linalg` module includes additional functionality such as determinants, matrix norms, Cholesky, eigenvalue and singular value decompositions, etc.  For even more linear algebra tools, `scipy.linalg` contains the majority of the tools in the classic LAPACK libraries as well as functions to operate on sparse matrices.  We refer the reader to the Numpy and Scipy documentations for additional details on these."
   ]
  },
  {
   "cell_type": "markdown",
   "metadata": {},
   "source": [
    "## Reading and writing arrays to disk"
   ]
  },
  {
   "cell_type": "markdown",
   "metadata": {},
   "source": [
    "Numpy lets you read and write arrays into files in a number of ways.  In order to use these tools well, it is critical to understand the difference between a *text* and a *binary* file containing numerical data.  In a text file, the number $\\pi$ could be written as \"3.141592653589793\", for example: a string of digits that a human can read, with in this case 15 decimal digits.  In contrast, that same number written to a binary file would be encoded as 8 characters (bytes) that are not readable by a human but which contain the exact same data that the variable `pi` had in the computer's memory.  \n",
    "\n",
    "The tradeoffs between the two modes are thus:\n",
    "\n",
    "* Text mode: occupies more space, precision can be lost (if not all digits are written to disk), but is readable and editable by hand with a text editor.  Can *only* be used for one- and two-dimensional arrays.\n",
    "\n",
    "* Binary mode: compact and exact representation of the data in memory, can't be read or edited by hand.  Arrays of any size and dimensionality can be saved and read without loss of information.\n",
    "\n",
    "First, let's see how to read and write arrays in text mode.  The `np.savetxt` function saves an array to a text file, with options to control the precision, separators and even adding a header:"
   ]
  },
  {
   "cell_type": "code",
   "execution_count": 72,
   "metadata": {
    "collapsed": false
   },
   "outputs": [
    {
     "name": "stdout",
     "output_type": "stream",
     "text": [
      "[[0 1 2 3 4]\n",
      " [5 6 7 8 9]]\n"
     ]
    }
   ],
   "source": [
    "arr = np.arange(10).reshape(2, 5)\n",
    "print(arr)                            \n",
    "np.savetxt('test.out', arr)"
   ]
  },
  {
   "cell_type": "code",
   "execution_count": 73,
   "metadata": {
    "collapsed": false
   },
   "outputs": [
    {
     "name": "stdout",
     "output_type": "stream",
     "text": [
      "0.000000000000000000e+00 1.000000000000000000e+00 2.000000000000000000e+00 3.000000000000000000e+00 4.000000000000000000e+00\r\n",
      "5.000000000000000000e+00 6.000000000000000000e+00 7.000000000000000000e+00 8.000000000000000000e+00 9.000000000000000000e+00\r\n"
     ]
    }
   ],
   "source": [
    "!cat test.out"
   ]
  },
  {
   "cell_type": "markdown",
   "metadata": {},
   "source": [
    "And this same type of file can then be read with the matching `np.loadtxt` function:"
   ]
  },
  {
   "cell_type": "code",
   "execution_count": 74,
   "metadata": {
    "collapsed": false
   },
   "outputs": [
    {
     "name": "stdout",
     "output_type": "stream",
     "text": [
      "[[ 0.  1.  2.  3.  4.]\n",
      " [ 5.  6.  7.  8.  9.]]\n"
     ]
    }
   ],
   "source": [
    "arr2 = np.loadtxt('test.out')\n",
    "print(arr2)"
   ]
  },
  {
   "cell_type": "markdown",
   "metadata": {},
   "source": [
    "For binary data, Numpy provides the `np.save` and `np.savez` routines.  The first saves a single array to a file with `.npy` extension, while the latter can be used to save a *group* of arrays into a single file with `.npz` extension.  The files created with these routines can then be read with the `np.load` function.\n",
    "\n",
    "Let us first see how to use the simpler `np.save` function to save a single array:"
   ]
  },
  {
   "cell_type": "code",
   "execution_count": 76,
   "metadata": {
    "collapsed": false
   },
   "outputs": [
    {
     "name": "stdout",
     "output_type": "stream",
     "text": [
      "[[0 1 2 3 4]\n",
      " [5 6 7 8 9]]\n",
      "[[0 1 2 3 4]\n",
      " [5 6 7 8 9]]\n",
      "int64\n",
      "('Any differences?', False)\n"
     ]
    }
   ],
   "source": [
    "np.save('test.npy', arr)\n",
    "# Now we read this back\n",
    "arr_loaded = np.load('test.npy')\n",
    "\n",
    "print(arr)\n",
    "print(arr_loaded)\n",
    "\n",
    "print(arr_loaded.dtype)\n",
    "\n",
    "# Let's see if any element is non-zero in the difference.\n",
    "# A value of True would be a problem.\n",
    "print('Any differences?', np.any(arr - arr_loaded))"
   ]
  },
  {
   "cell_type": "markdown",
   "metadata": {},
   "source": [
    "Now let us see how the `np.savez_compressed` function works."
   ]
  },
  {
   "cell_type": "code",
   "execution_count": 77,
   "metadata": {
    "collapsed": false
   },
   "outputs": [
    {
     "data": {
      "text/plain": [
       "['second', 'first']"
      ]
     },
     "execution_count": 77,
     "metadata": {},
     "output_type": "execute_result"
    }
   ],
   "source": [
    "np.savez_compressed('test.npz', first=arr, second=arr2)\n",
    "arrays = np.load('test.npz')\n",
    "arrays.files"
   ]
  },
  {
   "cell_type": "markdown",
   "metadata": {},
   "source": [
    "The object returned by `np.load` from an `.npz` file works like a dictionary:"
   ]
  },
  {
   "cell_type": "code",
   "execution_count": 78,
   "metadata": {
    "collapsed": false
   },
   "outputs": [
    {
     "data": {
      "text/plain": [
       "array([[0, 1, 2, 3, 4],\n",
       "       [5, 6, 7, 8, 9]])"
      ]
     },
     "execution_count": 78,
     "metadata": {},
     "output_type": "execute_result"
    }
   ],
   "source": [
    "arrays['first']"
   ]
  },
  {
   "cell_type": "markdown",
   "metadata": {},
   "source": [
    "This `.npz` format is a very convenient way to package compactly and without loss of information, into a single file, a group of related arrays that pertain to a specific problem.  At some point, however, the complexity of your dataset may be such that the optimal approach is to use one of the standard formats in scientific data processing that have been designed to handle complex datasets, such as NetCDF or HDF5.  \n",
    "\n",
    "Fortunately, there are tools for manipulating these formats in Python, and for storing data in other ways such as databases.  A complete discussion of the possibilities is beyond the scope of this tutorial, but of particular interest for scientific users we at least mention the following:\n",
    "\n",
    "* The `scipy.io` module contains routines to read and write Matlab files in `.mat` format and files in the NetCDF format that is widely used in certain scientific disciplines.\n",
    "\n",
    "* For manipulating files in the HDF5 format, there are two excellent options in Python: the **PyTables** project offers a high-level, object oriented approach to manipulating HDF5 datasets, while the **h5py** project offers a more direct mapping to the standard HDF5 library interface.  Both are excellent tools; if you need to work with HDF5 datasets you should read some of their documentation and examples and decide which approach is a better match for your needs."
   ]
  },
  {
   "cell_type": "code",
   "execution_count": null,
   "metadata": {
    "collapsed": true
   },
   "outputs": [],
   "source": []
  }
 ],
 "metadata": {
  "kernelspec": {
   "display_name": "Python 2",
   "language": "python",
   "name": "python2"
  },
  "language_info": {
   "codemirror_mode": {
    "name": "ipython",
    "version": 2
   },
   "file_extension": ".py",
   "mimetype": "text/x-python",
   "name": "python",
   "nbconvert_exporter": "python",
   "pygments_lexer": "ipython2",
   "version": "2.7.11"
  }
 },
 "nbformat": 4,
 "nbformat_minor": 0
}
