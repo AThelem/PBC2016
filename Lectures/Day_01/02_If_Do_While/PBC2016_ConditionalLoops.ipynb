{
 "cells": [
  {
   "cell_type": "markdown",
   "metadata": {
    "slideshow": {
     "slide_type": "slide"
    }
   },
   "source": [
    "# Conditionals and Loops\n",
    "\n",
    "---\n",
    "\n",
    "Brent Smith, __2016 GSFC Python Bootcamp__  \n",
    "[brent.smith@nasa.gov]()"
   ]
  },
  {
   "cell_type": "markdown",
   "metadata": {
    "slideshow": {
     "slide_type": "slide"
    }
   },
   "source": [
    "# Wait, What is this?"
   ]
  },
  {
   "cell_type": "markdown",
   "metadata": {
    "slideshow": {
     "slide_type": "fragment"
    }
   },
   "source": [
    "### Jupyter Notebook (Quick Intro)\n",
    "\n",
    "This is another way to program in Python, via the Jupyter Notebook. You can launch one by __(note: make sure you are in the correct directory)__ the command:"
   ]
  },
  {
   "cell_type": "markdown",
   "metadata": {
    "slideshow": {
     "slide_type": "fragment"
    }
   },
   "source": [
    "`jupyter notebook`"
   ]
  },
  {
   "cell_type": "markdown",
   "metadata": {
    "slideshow": {
     "slide_type": "fragment"
    }
   },
   "source": [
    "This launches a visual interactive Python (or as it used to be called, IPython) session through your default web browser. This lecture is not about how to use the interactive Python notebook, but the first lecture on Day 2 will be."
   ]
  },
  {
   "cell_type": "markdown",
   "metadata": {
    "slideshow": {
     "slide_type": "slide"
    }
   },
   "source": [
    "### Conditional Logic\n",
    "\n",
    "---\n",
    "\n",
    "Programs, including those written in Python, are executed in a top-down fashion line-by-line. For the simplest of programs, there is only one course of action."
   ]
  },
  {
   "cell_type": "markdown",
   "metadata": {
    "slideshow": {
     "slide_type": "fragment"
    }
   },
   "source": [
    "Start.  "
   ]
  },
  {
   "cell_type": "markdown",
   "metadata": {
    "slideshow": {
     "slide_type": "fragment"
    }
   },
   "source": [
    "Step 1.  "
   ]
  },
  {
   "cell_type": "markdown",
   "metadata": {
    "slideshow": {
     "slide_type": "fragment"
    }
   },
   "source": [
    "Step 2.  "
   ]
  },
  {
   "cell_type": "markdown",
   "metadata": {
    "slideshow": {
     "slide_type": "fragment"
    }
   },
   "source": [
    "and so on."
   ]
  },
  {
   "cell_type": "markdown",
   "metadata": {
    "slideshow": {
     "slide_type": "subslide"
    }
   },
   "source": [
    "As programs become more complex, there is a need to include actions that are usually dependent upon the current values of variables. In this section, we will look at these decisions in simple yes/no, or rather True/False, evaluations. The testing of these values are what we refer to as conditional statements."
   ]
  },
  {
   "cell_type": "markdown",
   "metadata": {
    "slideshow": {
     "slide_type": "fragment"
    }
   },
   "source": [
    "![traffic lights](http://imgs.xkcd.com/comics/traffic_lights.gif)\n",
    "Image Credit: [http://xkcd.com/1116](http://xkcd.com/1116)"
   ]
  },
  {
   "cell_type": "markdown",
   "metadata": {
    "slideshow": {
     "slide_type": "subslide"
    }
   },
   "source": [
    "### the `if` statement\n",
    "\n",
    "---"
   ]
  },
  {
   "cell_type": "markdown",
   "metadata": {
    "slideshow": {
     "slide_type": "fragment"
    }
   },
   "source": [
    "![flowchart](http://imgs.xkcd.com/comics/flowchart.png)  \n",
    "Image Credit: [http://xkcd.com/1195](http://xkcd.com/1195)"
   ]
  },
  {
   "cell_type": "code",
   "execution_count": null,
   "metadata": {
    "collapsed": false,
    "slideshow": {
     "slide_type": "fragment"
    }
   },
   "outputs": [],
   "source": [
    "if True:\n",
    "    print('Hi there. I am True.')\n",
    "\n",
    "if False:\n",
    "    print('Hi there. I am False.')"
   ]
  },
  {
   "cell_type": "markdown",
   "metadata": {
    "slideshow": {
     "slide_type": "subslide"
    }
   },
   "source": [
    "#### the if-else statement\n",
    "\n",
    "---"
   ]
  },
  {
   "cell_type": "code",
   "execution_count": null,
   "metadata": {
    "collapsed": false,
    "slideshow": {
     "slide_type": "fragment"
    }
   },
   "outputs": [],
   "source": [
    "if False:\n",
    "    print('Hi there. I am False.')\n",
    "else:\n",
    "    print('Oh no! I am actually True.')"
   ]
  },
  {
   "cell_type": "markdown",
   "metadata": {
    "slideshow": {
     "slide_type": "fragment"
    }
   },
   "source": [
    "__Note:__ You cannot have an `else` statement unless you have an `if` statement.\n",
    "\n",
    "---"
   ]
  },
  {
   "cell_type": "markdown",
   "metadata": {
    "slideshow": {
     "slide_type": "fragment"
    }
   },
   "source": [
    "But, what if we wanted more choices?"
   ]
  },
  {
   "cell_type": "markdown",
   "metadata": {
    "slideshow": {
     "slide_type": "subslide"
    }
   },
   "source": [
    "### the elif statement\n",
    "\n",
    "---\n",
    "\n",
    "elif statements allow us to add more choices. Like, more toppings on a pizza is always a good thing."
   ]
  },
  {
   "cell_type": "code",
   "execution_count": null,
   "metadata": {
    "collapsed": false,
    "slideshow": {
     "slide_type": "fragment"
    }
   },
   "outputs": [],
   "source": [
    "if False:\n",
    "    print('Hi there. I am True.')\n",
    "elif True:\n",
    "    print('But, now I am True.')\n",
    "# elif...\n",
    "# elif...\n",
    "# elif...\n",
    "else:\n",
    "    print('Oh no! I am actually False.')"
   ]
  },
  {
   "cell_type": "markdown",
   "metadata": {
    "slideshow": {
     "slide_type": "subslide"
    }
   },
   "source": [
    "### Conditional Testing\n",
    "\n",
    "---"
   ]
  },
  {
   "cell_type": "markdown",
   "metadata": {
    "slideshow": {
     "slide_type": "fragment"
    }
   },
   "source": [
    "There are various ways to insert booleans:\n",
    "\n",
    "- True/False\n",
    "- variables (i.e. the value of variable)\n",
    "- Numbers (1 is True; 0 is False)\n",
    "- Empty objects (you will learn more about these later; [], {}, None, '')\n",
    "- Comparisons between things:\n",
    "    - 1 > 2\n",
    "    - 1 == 2\n",
    "    - 1 >= 2\n",
    "    - 1 != 2\n",
    "    - 1 is 2 (be careful! this looks at the memory id of the object)\n",
    "    - 1 is not 2\n",
    "    - 1 in 2 (works only in lists, strings, and other iterable objects)\n",
    "- Evalueated values (1 + 2)"
   ]
  },
  {
   "cell_type": "markdown",
   "metadata": {
    "slideshow": {
     "slide_type": "fragment"
    }
   },
   "source": [
    "__Note:__ [Operator Precedence](http://docs.python.org/2.7/reference/expressions.html#operator-precedence)"
   ]
  },
  {
   "cell_type": "markdown",
   "metadata": {
    "slideshow": {
     "slide_type": "subslide"
    }
   },
   "source": [
    "## Breakout\n",
    "\n",
    "---\n",
    "\n",
    "We're going to create a simple traffic light with three options: Red, Yellow, and Green. Create three variables (top, middle, bottom, for example) to store which lights are on. These variables will hold only True/False values, or you can get creative with the conditions you put in them.\n",
    "\n",
    "After setting the three variables, write one conditional per light to test the values of these and print out the street light as such:\n",
    "\n",
    "Red: Off\n",
    "Yellow: Off\n",
    "Green: On\n",
    "\n",
    "Don't worry about formatting either. As long as you can tell which ones are off/on, that's good.\n",
    "\n",
    "It's a simple interface, but you can easily get more creative with this application."
   ]
  },
  {
   "cell_type": "markdown",
   "metadata": {
    "slideshow": {
     "slide_type": "subslide"
    }
   },
   "source": [
    "### Combining conditionals\n",
    "\n",
    "---"
   ]
  },
  {
   "cell_type": "markdown",
   "metadata": {
    "slideshow": {
     "slide_type": "fragment"
    }
   },
   "source": [
    "You can combine Boolean logic as well! With the words `and` or `or`, you can have even more complex logic built in. But remember, just like math, there is [Operator Precedence](http://docs.python.org/2.7/reference/expressions.html#operator-precedence)."
   ]
  },
  {
   "cell_type": "code",
   "execution_count": null,
   "metadata": {
    "collapsed": false,
    "slideshow": {
     "slide_type": "fragment"
    }
   },
   "outputs": [],
   "source": [
    "if (1 != 2) or False:\n",
    "    print('Combined logic is fun!')"
   ]
  },
  {
   "cell_type": "markdown",
   "metadata": {
    "slideshow": {
     "slide_type": "slide"
    }
   },
   "source": [
    "### Iterative Programming\n",
    "\n",
    "---"
   ]
  },
  {
   "cell_type": "markdown",
   "metadata": {
    "slideshow": {
     "slide_type": "fragment"
    }
   },
   "source": [
    "__Purpose:__\n",
    "\n",
    "The purpose of iterative programming, i.e., loops, is to remove redundancy within your code. It however, does not replace the functionality of the code, merely makes life easier."
   ]
  },
  {
   "cell_type": "markdown",
   "metadata": {
    "slideshow": {
     "slide_type": "fragment"
    }
   },
   "source": [
    "###### Example\n",
    "\n",
    "Add 1 five times to iteself.\n",
    "\n",
    "1 + 1 + 1 + 1 + 1 = 5\n",
    "\n",
    "value = 1  \n",
    "value = value + 1 (four times)  \n",
    "print(value) # should print the value 5"
   ]
  },
  {
   "cell_type": "code",
   "execution_count": null,
   "metadata": {
    "collapsed": true
   },
   "outputs": [],
   "source": []
  }
 ],
 "metadata": {
  "celltoolbar": "Slideshow",
  "kernelspec": {
   "display_name": "Python 2",
   "language": "python",
   "name": "python2"
  },
  "language_info": {
   "codemirror_mode": {
    "name": "ipython",
    "version": 2
   },
   "file_extension": ".py",
   "mimetype": "text/x-python",
   "name": "python",
   "nbconvert_exporter": "python",
   "pygments_lexer": "ipython2",
   "version": "2.7.11"
  }
 },
 "nbformat": 4,
 "nbformat_minor": 0
}
