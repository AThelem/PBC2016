{
 "cells": [
  {
   "cell_type": "markdown",
   "metadata": {},
   "source": [
    "# Conditional Logic\n",
    "\n",
    "(insert one of these flowcharts)\n",
    "\n",
    "http://www.thedoghousediaries.com/dhdcomics/2011-03-28-e1660dc.png\n",
    "\n",
    "https://xkcd.com/1195/"
   ]
  },
  {
   "cell_type": "code",
   "execution_count": null,
   "metadata": {
    "collapsed": true
   },
   "outputs": [],
   "source": []
  },
  {
   "cell_type": "code",
   "execution_count": 1,
   "metadata": {
    "collapsed": false
   },
   "outputs": [
    {
     "name": "stdout",
     "output_type": "stream",
     "text": [
      "Hi there. I am true.\n"
     ]
    }
   ],
   "source": [
    "# if\n",
    "if True:\n",
    "    print('Hi there. I am true.')"
   ]
  },
  {
   "cell_type": "code",
   "execution_count": 2,
   "metadata": {
    "collapsed": false
   },
   "outputs": [
    {
     "name": "stdout",
     "output_type": "stream",
     "text": [
      "Hi again. I was false, so now I am true.\n"
     ]
    }
   ],
   "source": [
    "# elif\n",
    "if False:\n",
    "    print('Hi there. I am true.')\n",
    "elif True:\n",
    "    print('Hi again. I was false, so now I am true.')"
   ]
  },
  {
   "cell_type": "code",
   "execution_count": 3,
   "metadata": {
    "collapsed": false
   },
   "outputs": [
    {
     "name": "stdout",
     "output_type": "stream",
     "text": [
      "Oh no! I am false.\n"
     ]
    }
   ],
   "source": [
    "# else\n",
    "if False:\n",
    "    print('Hi there. I am true.')\n",
    "else:\n",
    "    print('Oh no! I am false.')"
   ]
  },
  {
   "cell_type": "code",
   "execution_count": 6,
   "metadata": {
    "collapsed": false
   },
   "outputs": [
    {
     "name": "stdout",
     "output_type": "stream",
     "text": [
      "Variable b is greater than variable a.\n"
     ]
    }
   ],
   "source": [
    "# combined\n",
    "a = 1\n",
    "b = 2\n",
    "if a > b:\n",
    "    print('Variable a is greater than variable b.')\n",
    "elif b > a:\n",
    "    print('Variable b is greater than variable a.')\n",
    "else:\n",
    "    print('Neither variable a or b are greater than the other, so they must be equal.')"
   ]
  },
  {
   "cell_type": "code",
   "execution_count": 8,
   "metadata": {
    "collapsed": false
   },
   "outputs": [
    {
     "name": "stdout",
     "output_type": "stream",
     "text": [
      "Variable b is greater than variable a.\n",
      "I think we are done.\n"
     ]
    }
   ],
   "source": [
    "# revisited\n",
    "a = 1\n",
    "b = 2\n",
    "if a > b:\n",
    "    print('Variable a is greater than variable b.')\n",
    "elif b > a:\n",
    "    print('Variable b is greater than variable a.')\n",
    "elif b == a:\n",
    "    print('Variable b is equal to variable a.')\n",
    "print('I think we are done.')"
   ]
  },
  {
   "cell_type": "code",
   "execution_count": 9,
   "metadata": {
    "collapsed": true
   },
   "outputs": [],
   "source": [
    "# other conditionals\n",
    "# / % >= <= != is not in "
   ]
  },
  {
   "cell_type": "code",
   "execution_count": null,
   "metadata": {
    "collapsed": true
   },
   "outputs": [],
   "source": []
  }
 ],
 "metadata": {
  "kernelspec": {
   "display_name": "Python 2",
   "language": "python",
   "name": "python2"
  },
  "language_info": {
   "codemirror_mode": {
    "name": "ipython",
    "version": 2
   },
   "file_extension": ".py",
   "mimetype": "text/x-python",
   "name": "python",
   "nbconvert_exporter": "python",
   "pygments_lexer": "ipython2",
   "version": "2.7.11"
  }
 },
 "nbformat": 4,
 "nbformat_minor": 0
}
