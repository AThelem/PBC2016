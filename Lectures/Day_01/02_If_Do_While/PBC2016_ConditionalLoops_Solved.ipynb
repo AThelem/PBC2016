{
 "cells": [
  {
   "cell_type": "markdown",
   "metadata": {
    "slideshow": {
     "slide_type": "slide"
    }
   },
   "source": [
    "# Answers!"
   ]
  },
  {
   "cell_type": "markdown",
   "metadata": {
    "slideshow": {
     "slide_type": "slide"
    }
   },
   "source": [
    "## Breakout\n",
    "\n",
    "---\n",
    "\n",
    "We're going to create a simple traffic light with three options: Red, Yellow, and Green. Create three variables (top, middle, bottom, for example) to store which lights are on. These variables will hold only True/False values, or you can get creative with the conditions you put in them.\n",
    "\n",
    "After setting the three variables, write one conditional per light to test the values of these and print out the street light as such:\n",
    "\n",
    "Red: Off\n",
    "Yellow: Off\n",
    "Green: On\n",
    "\n",
    "Don't worry about formatting either. As long as you can tell which ones are off/on, that's good.\n",
    "\n",
    "It's a simple interface, but you can easily get more creative with this application."
   ]
  },
  {
   "cell_type": "markdown",
   "metadata": {
    "slideshow": {
     "slide_type": "subslide"
    }
   },
   "source": [
    "## Breakout - Answer\n",
    "\n",
    "---"
   ]
  },
  {
   "cell_type": "code",
   "execution_count": null,
   "metadata": {
    "collapsed": true,
    "slideshow": {
     "slide_type": "fragment"
    }
   },
   "outputs": [],
   "source": [
    "top = False\n",
    "middle = False\n",
    "bottom = True\n",
    "\n",
    "print 'Red:',\n",
    "if top:\n",
    "    print 'On'\n",
    "else:\n",
    "    print 'Off'\n",
    "\n",
    "print 'Yellow:',\n",
    "if middle:\n",
    "    print 'On'\n",
    "else:\n",
    "    print 'Off'\n",
    "\n",
    "print 'Green:',\n",
    "if bottom:\n",
    "    print 'On'\n",
    "else:\n",
    "    print 'Off'"
   ]
  }
 ],
 "metadata": {
  "celltoolbar": "Slideshow",
  "kernelspec": {
   "display_name": "Python 2",
   "language": "python",
   "name": "python2"
  },
  "language_info": {
   "codemirror_mode": {
    "name": "ipython",
    "version": 2
   },
   "file_extension": ".py",
   "mimetype": "text/x-python",
   "name": "python",
   "nbconvert_exporter": "python",
   "pygments_lexer": "ipython2",
   "version": "2.7.11"
  }
 },
 "nbformat": 4,
 "nbformat_minor": 0
}
